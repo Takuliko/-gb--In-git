{
  "cells": [
    {
      "cell_type": "markdown",
      "metadata": {
        "id": "view-in-github",
        "colab_type": "text"
      },
      "source": [
        "<a href=\"https://colab.research.google.com/github/Takuliko/-gb--In-git/blob/master/%D0%9C%D0%B0%D1%82%D0%B5%D0%BC%D0%B0%D1%82%D0%B8%D0%BA%D0%B09.ipynb\" target=\"_parent\"><img src=\"https://colab.research.google.com/assets/colab-badge.svg\" alt=\"Open In Colab\"/></a>"
      ]
    },
    {
      "cell_type": "code",
      "source": [
        "\n",
        "import numpy as np\n",
        "import statsmodels.api as sm\n",
        "\n",
        "# Данные\n",
        "zp = np.array([35, 45, 190, 200, 40, 70, 54, 150, 120, 110])  # заработная плата\n",
        "ks = np.array([401, 574, 874, 919, 459, 739, 653, 902, 746, 832])  # скоринг\n",
        "\n",
        "# Расчет линейной регрессии с intercept\n",
        "X_with_intercept = sm.add_constant(zp)  # добавляем свободный член\n",
        "model_with_intercept = sm.OLS(ks, X_with_intercept).fit()\n",
        "intercept, slope = model_with_intercept.params\n",
        "print(f'Коэффициенты линейной регрессии (с intercept):')\n",
        "print(f'Свободный член (intercept): {intercept}')\n",
        "print(f'Коэффициент наклона (slope): {slope}')\n",
        "\n",
        "# Расчет линейной регрессии без intercept\n",
        "model_without_intercept = sm.OLS(ks, zp).fit()\n",
        "slope_no_intercept = model_without_intercept.params[0]\n",
        "print(f'\\nКоэффициенты линейной регрессии (без intercept):')\n",
        "print(f'Коэффициент наклона (slope): {slope_no_intercept}')\n",
        "\n"
      ],
      "metadata": {
        "id": "GR9KbJSEEEap",
        "outputId": "3ea62f90-52d3-444d-a9ab-9b80f0cd52f0",
        "colab": {
          "base_uri": "https://localhost:8080/"
        }
      },
      "execution_count": 20,
      "outputs": [
        {
          "output_type": "stream",
          "name": "stdout",
          "text": [
            "Коэффициенты линейной регрессии (с intercept):\n",
            "Свободный член (intercept): 444.1773573243591\n",
            "Коэффициент наклона (slope): 2.620538882402766\n",
            "\n",
            "Коэффициенты линейной регрессии (без intercept):\n",
            "Коэффициент наклона (slope): 5.889820420132689\n"
          ]
        }
      ]
    },
    {
      "cell_type": "code",
      "source": [
        "\n",
        "import numpy as np\n",
        "import statsmodels.api as sm\n",
        "\n",
        "# Данные\n",
        "zp = np.array([35, 45, 190, 200, 40, 70, 54, 150, 120, 110])  # заработная плата\n",
        "ks = np.array([401, 574, 874, 919, 459, 739, 653, 902, 746, 832])  # скоринг\n",
        "\n",
        "i = 1\n",
        "slope = 0\n",
        "learning_rate = 0.0001\n",
        "interactions = 100\n",
        "# Среднеквадратическая ошибка\n",
        "def mean_squared_error(y_true, y_pred):\n",
        "  return np.mean((y_true - y_pred)**2)\n",
        "\n",
        "# Градиентный спуск\n",
        "def gradient_descent(zp, ks, slope):\n",
        "    return np.mean((slope * zp - ks) * zp)\n",
        "\n",
        "    for i in range(iterations):\n",
        "      slope -= learning_rate * gradient (zp, ks, slope)\n",
        "      mse = mean_squared_error (ks, slope * zp)\n",
        "\n",
        "      print(f'интеграция {i+1}: коэффициент склонности = {slope:.2f}, Среднеквадратичная ошибка = {mse:.4f}')\n",
        "\n",
        "print(f'Коэффициент склонности: {slope:.2f}')\n"
      ],
      "metadata": {
        "id": "xRDNIwmfEiu5",
        "outputId": "caafbcd2-8359-452e-c386-cbded2efd785",
        "colab": {
          "base_uri": "https://localhost:8080/"
        }
      },
      "execution_count": 34,
      "outputs": [
        {
          "output_type": "stream",
          "name": "stdout",
          "text": [
            "Коэффициент склонности: 0.00\n"
          ]
        }
      ]
    },
    {
      "cell_type": "code",
      "source": [
        "# Градиентный спуск с интерсептом\n",
        "def gradient_descent_with_intercept(zp, ks, learning_rate=0.01, iterations=1000):\n",
        "    m = len(zp)  # количество точек\n",
        "    slope = 0  # начальное значение коэффициента наклона\n",
        "    intercept = 0  # начальное значение интерсепта\n",
        "\n",
        "    for _ in range(iterations):\n",
        "        predictions = slope * zp + intercept  # предсказанные значения\n",
        "        error = predictions - ks  # ошибка\n",
        "        # Вычисление градиентов\n",
        "        slope_gradient = (2/m) * np.dot(zp, error)  # градиент для наклона\n",
        "        intercept_gradient = (2/m) * np.sum(error)  # градиент для интерсепта\n",
        "\n",
        "        # Обновление коэффициентов\n",
        "        slope -= learning_rate * slope_gradient\n",
        "        intercept -= learning_rate * intercept_gradient\n",
        "\n",
        "    return slope, intercept\n",
        "\n",
        "# Вычисление коэффициента наклона и интерсепта\n",
        "slope, intercept = gradient_descent_with_intercept(zp, ks)\n",
        "print(f'Коэффициент наклона (slope): {slope}')\n",
        "print(f'Интерсепт (intercept): {intercept}')\n",
        "\n"
      ],
      "metadata": {
        "id": "9T9MNW_AE4wK",
        "outputId": "2f87a452-7789-4fde-b317-19e8ace4966e",
        "colab": {
          "base_uri": "https://localhost:8080/"
        }
      },
      "execution_count": 30,
      "outputs": [
        {
          "output_type": "stream",
          "name": "stdout",
          "text": [
            "Коэффициент наклона (slope): nan\n",
            "Интерсепт (intercept): nan\n"
          ]
        },
        {
          "output_type": "stream",
          "name": "stderr",
          "text": [
            "<ipython-input-30-1d50f204f541>:15: RuntimeWarning: invalid value encountered in scalar subtract\n",
            "  slope -= learning_rate * slope_gradient\n"
          ]
        }
      ]
    }
  ],
  "metadata": {
    "colab": {
      "name": "Добро пожаловать в Colaboratory!",
      "toc_visible": true,
      "provenance": [],
      "include_colab_link": true
    },
    "kernelspec": {
      "display_name": "Python 3",
      "name": "python3"
    }
  },
  "nbformat": 4,
  "nbformat_minor": 0
}
{
  "cells": [
    {
      "cell_type": "markdown",
      "metadata": {
        "id": "view-in-github",
        "colab_type": "text"
      },
      "source": [
        "<a href=\"https://colab.research.google.com/github/Takuliko/-gb--In-git/blob/master/%D0%BC%D0%B0%D1%82%D0%B5%D0%BC%D0%B0%D1%82%D0%B8%D0%BA%D0%B010.ipynb\" target=\"_parent\"><img src=\"https://colab.research.google.com/assets/colab-badge.svg\" alt=\"Open In Colab\"/></a>"
      ]
    },
    {
      "cell_type": "code",
      "source": [
        "import scipy.stats as stats"
      ],
      "metadata": {
        "id": "xUl093s6vzEl"
      },
      "execution_count": 10,
      "outputs": []
    },
    {
      "cell_type": "code",
      "source": [
        "footballers = [173, 175, 180, 178, 177, 185, 183, 182]\n",
        "hockey_players = [177, 179, 180, 188, 177, 172, 171, 184, 180]\n",
        "weightlifters = [172, 173, 169, 177, 166, 180, 178, 177, 172, 166, 170]\n",
        "f_statistic, p_value = stats.f_oneway(footballers,hockey_players, weightlifters)\n",
        "\n",
        "print(f\"F-статистика: {f_statistic:.4f}\")\n",
        "print(f\"p-значение: {p_value:.4f}\")\n"
      ],
      "metadata": {
        "colab": {
          "base_uri": "https://localhost:8080/"
        },
        "id": "Qz8ddP_Rv8ct",
        "outputId": "8d189fea-9675-438f-bca9-7df472ce1468"
      },
      "execution_count": 11,
      "outputs": [
        {
          "output_type": "stream",
          "name": "stdout",
          "text": [
            "F-статистика: 5.5001\n",
            "p-значение: 0.0105\n"
          ]
        }
      ]
    },
    {
      "cell_type": "code",
      "source": [
        "# Интерпретация результатов\n",
        "alpha = 0.05\n",
        "if p_value < alpha:\n",
        "  print(\"Есть статистически значимые различия в среднем росте между группами.\")\n",
        "else:\n",
        "  print(\"Нет статистически значимых различий в среднем росте между группами.\")"
      ],
      "metadata": {
        "colab": {
          "base_uri": "https://localhost:8080/"
        },
        "id": "_MJtkQCgaF0N",
        "outputId": "b96d9000-77f3-430e-c1cb-0fdc255fb16a"
      },
      "execution_count": 9,
      "outputs": [
        {
          "output_type": "stream",
          "name": "stdout",
          "text": [
            "Есть статистически значимые различия в среднем росте между группами.\n"
          ]
        }
      ]
    }
  ],
  "metadata": {
    "colab": {
      "name": "Добро пожаловать в Colaboratory!",
      "toc_visible": true,
      "provenance": [],
      "include_colab_link": true
    },
    "kernelspec": {
      "display_name": "Python 3",
      "name": "python3"
    }
  },
  "nbformat": 4,
  "nbformat_minor": 0
}
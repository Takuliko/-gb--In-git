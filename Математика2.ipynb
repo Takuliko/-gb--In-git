{
  "cells": [
    {
      "cell_type": "markdown",
      "metadata": {
        "id": "view-in-github",
        "colab_type": "text"
      },
      "source": [
        "<a href=\"https://colab.research.google.com/github/Takuliko/-gb--In-git/blob/master/%D0%9C%D0%B0%D1%82%D0%B5%D0%BC%D0%B0%D1%82%D0%B8%D0%BA%D0%B02.ipynb\" target=\"_parent\"><img src=\"https://colab.research.google.com/assets/colab-badge.svg\" alt=\"Open In Colab\"/></a>"
      ]
    },
    {
      "cell_type": "code",
      "source": [
        "\n",
        "import numpy as np\n",
        "import pandas as pd\n",
        "\n",
        "# Данные о заработной плате и кредитном скоринге\n",
        "zp = np.array([35, 45, 190, 200, 40, 70, 54, 150, 120, 110])\n",
        "ks = np.array([401, 574, 874, 919, 459, 739, 653, 902, 746, 832])\n",
        "\n",
        "# 1. Рассчитаем ковариацию вручную\n",
        "def covariance(x, y):\n",
        "    mean_x = np.mean(x)\n",
        "    mean_y = np.mean(y)\n",
        "    cov = np.sum((x - mean_x) * (y - mean_y)) / (len(x) - 1)\n",
        "    return cov\n",
        "\n",
        "cov_manual = covariance(zp, ks)\n",
        "print(f'Ковариация (вручную): {cov_manual}')\n",
        "\n",
        "# 2. Рассчитаем ковариацию с помощью функции cov из numpy\n",
        "cov_numpy = np.cov(zp, ks, bias=False)[0][1]\n",
        "print(f'Ковариация (numpy): {cov_numpy}')\n",
        "\n",
        "# Проверка равенства ковариаций\n",
        "print(f'Ковариации равны: {np.isclose(cov_manual, cov_numpy)}')\n",
        "\n",
        "# 3. Рассчитаем коэффициент корреляции Пирсона\n",
        "def pearson_correlation(x, y):\n",
        "    cov = covariance(x, y)\n",
        "    std_x = np.std(x, ddof=1)\n",
        "    std_y = np.std(y, ddof=1)\n",
        "    return cov / (std_x * std_y)\n",
        "\n",
        "correlation_manual = pearson_correlation(zp, ks)\n",
        "print(f'Коэффициент корреляции Пирсона (вручную): {correlation_manual}')\n",
        "\n",
        "# 4. Рассчитаем коэффициент корреляции с помощью numpy\n",
        "correlation_numpy = np.corrcoef(zp, ks)[0][1]\n",
        "print(f'Коэффициент корреляции Пирсона (numpy): {correlation_numpy}')\n",
        "\n",
        "# 5. Рассчитаем коэффициент корреляции с помощью pandas\n",
        "df = pd.DataFrame({'zp': zp, 'ks': ks})\n",
        "correlation_pandas = df['zp'].corr(df['ks'])\n",
        "print(f'Коэффициент корреляции Пирсона (pandas): {correlation_pandas}')\n",
        "\n"
      ],
      "metadata": {
        "id": "hybElsQ6CYmy",
        "outputId": "2cb1aa68-b488-4628-cb1b-57101385130f",
        "colab": {
          "base_uri": "https://localhost:8080/"
        }
      },
      "execution_count": 16,
      "outputs": [
        {
          "output_type": "stream",
          "name": "stdout",
          "text": [
            "Ковариация (вручную): 10175.37777777778\n",
            "Ковариация (numpy): 10175.377777777776\n",
            "Ковариации равны: True\n",
            "Коэффициент корреляции Пирсона (вручную): 0.8874900920739164\n",
            "Коэффициент корреляции Пирсона (numpy): 0.8874900920739162\n",
            "Коэффициент корреляции Пирсона (pandas): 0.8874900920739162\n"
          ]
        }
      ]
    },
    {
      "cell_type": "code",
      "source": [
        "import scipy.stats as stats\n",
        "\n",
        "# Данные о IQ студентов\n",
        "iq_data = np.array([131, 125, 115, 122, 131, 115, 107, 99, 125, 111])\n",
        "\n",
        "# Уровень надежности\n",
        "confidence_level = 0.95\n",
        "\n",
        "# Параметры выборки\n",
        "n = len(iq_data)  # размер выборки\n",
        "mean = np.mean(iq_data)  # среднее значение\n",
        "std_dev = np.std(iq_data, ddof=1)  # стандартное отклонение\n",
        "\n",
        "# Критическое значение t для 95% доверительного интервала\n",
        "t_critical = stats.t.ppf((1 + confidence_level) / 2, df=n-1)\n",
        "\n",
        "# Ошибка выборки\n",
        "standard_error = std_dev / np.sqrt(n)\n",
        "\n",
        "# Доверительный интервал\n",
        "margin_of_error = t_critical * standard_error\n",
        "confidence_interval = (mean - margin_of_error, mean + margin_of_error)\n",
        "\n",
        "print(f'Доверительный интервал для математического ожидания с надежностью {confidence_level}: {confidence_interval}')\n",
        "\n"
      ],
      "metadata": {
        "id": "_EDeyL2_CbJF",
        "outputId": "67c2a40e-2971-494f-9bde-a16da2f46e8c",
        "colab": {
          "base_uri": "https://localhost:8080/"
        }
      },
      "execution_count": 17,
      "outputs": [
        {
          "output_type": "stream",
          "name": "stdout",
          "text": [
            "Доверительный интервал для математического ожидания с надежностью 0.95: (110.55608365121006, 125.64391634878993)\n"
          ]
        }
      ]
    },
    {
      "cell_type": "code",
      "source": [
        "# Данные\n",
        "sample_size = 27  # объем выборки\n",
        "sample_mean = 174.2  # среднее выборочное\n",
        "population_variance = 25  # дисперсия генеральной совокупности\n",
        "population_std_dev = np.sqrt(population_variance)  # стандартное отклонение\n",
        "\n",
        "# Уровень надежности\n",
        "confidence_level = 0.95\n",
        "\n",
        "# Критическое значение z для 95% доверительного интервала\n",
        "z_critical = stats.norm.ppf((1 + confidence_level) / 2)\n",
        "\n",
        "# Ошибка выборки\n",
        "standard_error = population_std_dev / np.sqrt(sample_size)\n",
        "\n",
        "# Доверительный интервал\n",
        "margin_of_error = z_critical * standard_error\n",
        "confidence_interval = (sample_mean - margin_of_error, sample_mean + margin_of_error)\n",
        "\n",
        "print(f'Доверительный интервал для математического ожидания с надежностью {confidence_level}: {confidence_interval}')\n",
        "\n"
      ],
      "metadata": {
        "id": "x5Ksq-jOC5jb",
        "outputId": "4b762a7a-d1fc-4312-bd2b-94dcd9c8ec83",
        "colab": {
          "base_uri": "https://localhost:8080/"
        }
      },
      "execution_count": 19,
      "outputs": [
        {
          "output_type": "stream",
          "name": "stdout",
          "text": [
            "Доверительный интервал для математического ожидания с надежностью 0.95: (172.3140237765397, 176.08597622346028)\n"
          ]
        }
      ]
    }
  ],
  "metadata": {
    "colab": {
      "name": "Добро пожаловать в Colaboratory!",
      "toc_visible": true,
      "provenance": [],
      "include_colab_link": true
    },
    "kernelspec": {
      "display_name": "Python 3",
      "name": "python3"
    }
  },
  "nbformat": 4,
  "nbformat_minor": 0
}